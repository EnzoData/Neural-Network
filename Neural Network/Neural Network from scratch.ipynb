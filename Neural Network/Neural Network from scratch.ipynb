{
 "cells": [
  {
   "cell_type": "markdown",
   "metadata": {},
   "source": [
    "# Introduction\n",
    "I began learning about Neural Netowrks in Topology and decided to build one from scratch as i understand how to draw it out by hand."
   ]
  },
  {
   "cell_type": "markdown",
   "metadata": {},
   "source": [
    "# Data\n",
    "\n",
    "Before the actual implementation, we need to read and process our data. For the purposes of this tutorial, we will use the famous Iris Species Dataset. You can find more information on the Dataset Page right here on [Kaggle](https://www.kaggle.com/uciml/iris), In short, the dataset contains data for **three** species of a flower and we have **four** pieces of data for each sample (sepal length/width and petal length/width).\n",
    "\n",
    "The two libraries we will mainly use are `numpy` for the mathematical operations and `pandas` for reading the dataset (we will also use another library later on). Let's import them!"
   ]
  },
  {
   "cell_type": "code",
   "execution_count": 1,
   "metadata": {},
   "outputs": [],
   "source": [
    "import numpy as np\n",
    "import pandas as pd"
   ]
  },
  {
   "cell_type": "markdown",
   "metadata": {},
   "source": [
    "Next we will read the dataset using `pandas` and shuffle it. Shuffling a dataset, when the order of the samples does not matter, is usually for the best. I will not go into detail, but a shuffled dataset is better both for separating the dataset into train/test/validation and for avoiding overfitting."
   ]
  },
  {
   "cell_type": "code",
   "execution_count": 7,
   "metadata": {},
   "outputs": [],
   "source": [
    "iris = pd.read_csv(\"Iris.csv\")\n",
    "iris = iris.sample(frac=1).reset_index(drop=True) # Shuffle"
   ]
  },
  {
   "cell_type": "markdown",
   "metadata": {},
   "source": [
    "We need to grab the data (the information on each sample) from the `pandas` array and put it into a nice `numpy` one."
   ]
  },
  {
   "cell_type": "code",
   "execution_count": 8,
   "metadata": {},
   "outputs": [
    {
     "data": {
      "text/plain": [
       "array([[4.8, 3.4, 1.6, 0.2],\n",
       "       [4.4, 3. , 1.3, 0.2],\n",
       "       [6. , 3.4, 4.5, 1.6],\n",
       "       [5.1, 3.8, 1.5, 0.3],\n",
       "       [5.7, 3.8, 1.7, 0.3]])"
      ]
     },
     "execution_count": 8,
     "metadata": {},
     "output_type": "execute_result"
    }
   ],
   "source": [
    "X = iris[['SepalLengthCm', 'SepalWidthCm', 'PetalLengthCm', 'PetalWidthCm']]\n",
    "X = np.array(X)\n",
    "X[:5]"
   ]
  },
  {
   "cell_type": "markdown",
   "metadata": {},
   "source": [
    "The above will be fed in our neural network for training. Only thing that's missing now is to format the class of each item. Namely, we need to convert classes from categorical ('Setosa', 'Versicolor', 'Virginica') to numerical (0, 1, 2) and then to one-hot encoded ([1, 0, 0], [0, 1, 0], [0, 0, 1]). A class in one-hot encoded form is an array of 0s (a 0 for each different class) with one element equal to 1 in the index of the class (if the value of the class is 3, index 3 of the one-hot array will be equal to 1).\n",
    "\n",
    "The above can be done easily and without hassle using the `OneHotEncoder` function from the `sklearn` library. We will simply take the class information (under the 'Species' column) of each sample and convert it using the imported function."
   ]
  },
  {
   "cell_type": "code",
   "execution_count": 10,
   "metadata": {},
   "outputs": [
    {
     "data": {
      "text/plain": [
       "array([[1., 0., 0.],\n",
       "       [1., 0., 0.],\n",
       "       [0., 1., 0.],\n",
       "       [1., 0., 0.],\n",
       "       [1., 0., 0.]])"
      ]
     },
     "execution_count": 10,
     "metadata": {},
     "output_type": "execute_result"
    }
   ],
   "source": [
    "from sklearn.preprocessing import OneHotEncoder\n",
    "one_hot_encoder = OneHotEncoder(sparse=False)\n",
    "\n",
    "Y = iris.Species\n",
    "Y = one_hot_encoder.fit_transform(np.array(Y).reshape(-1, 1))\n",
    "Y[:5]"
   ]
  },
  {
   "cell_type": "markdown",
   "metadata": {},
   "source": [
    "Next we will split our dataset into train/validation/test using `sklearn`. Initially the data will be split into train/test and then the training data will be further split into train/validation."
   ]
  },
  {
   "cell_type": "code",
   "execution_count": 11,
   "metadata": {},
   "outputs": [],
   "source": [
    "from sklearn.model_selection import train_test_split\n",
    "X_train, X_test, Y_train, Y_test = train_test_split(X, Y, test_size=0.15)\n",
    "X_train, X_val, Y_train, Y_val = train_test_split(X_train, Y_train, test_size=0.1)"
   ]
  },
  {
   "cell_type": "markdown",
   "metadata": {},
   "source": [
    "## Implementation\n",
    "\n",
    "In this tutorial, we are going to build a simple neural network that supports multiple layers and validation. The main function is `NeuralNetwork`, which will train the network for the specified number of epochs. At first, the weights of the network will get randomly initialized by `InitializeWeights`. Then, in each epoch, the weights will be updated by `Train` and finally, every 20 epochs accuracy both for the training and validation sets will be printed by the `Accuracy` function. As input the function receives the following:\n",
    "\n",
    "* `X_train`, `Y_train`: The training data and target values.\n",
    "* `X_val`, `Y_val`: The validation data and target values. These are optional parameters.\n",
    "* `epochs`: Number of epochs. Defaults at 10.\n",
    "* `nodes`: A list of integers. Each integer denotes the number of nodes in each layer. The length of this list denotes the number of layers. That is, each integer in this list corresponds to the number of nodes in each layer.\n",
    "* `lr`: The learning rate of the back-propagation training algorithm. Defaults at 0.15."
   ]
  },
  {
   "cell_type": "code",
   "execution_count": 12,
   "metadata": {},
   "outputs": [],
   "source": [
    "def NeuralNetwork(X_train, Y_train, X_val=None, Y_val=None, epochs=10, nodes=[], lr=0.15):\n",
    "    hidden_layers = len(nodes) - 1\n",
    "    weights = InitializeWeights(nodes)\n",
    "\n",
    "    for epoch in range(1, epochs+1):\n",
    "        weights = Train(X_train, Y_train, lr, weights)\n",
    "\n",
    "        if(epoch % 20 == 0):\n",
    "            print(\"Epoch {}\".format(epoch))\n",
    "            print(\"Training Accuracy:{}\".format(Accuracy(X_train, Y_train, weights)))\n",
    "            if X_val.any():\n",
    "                print(\"Validation Accuracy:{}\".format(Accuracy(X_val, Y_val, weights)))\n",
    "            \n",
    "    return weights"
   ]
  },
  {
   "cell_type": "markdown",
   "metadata": {},
   "source": [
    "The weights of the network are initialized randomly in the range [-1, 1] by `InitializeWeights`. This function takes as input `nodes` and returns a multi-dimensional array, `weights`. Each element in the `weights` list represents a hidden layer and holds the weights of connections from the previous layer (including the bias) to the current layer. So, element `i` in `weights` holds the weights of the connections from layer `i-1` to layer `i`. Note that the input layer has no incoming connections so it is not present in `weights`.\n",
    "\n",
    "For example, let's say we have four features (as is the case with the Iris dataset) and the hidden layers have 5, 10 and 3 (for the output, one for each class) nodes. Thus, `nodes == [4, 5, 10, 3]`  Then, the connections between the input layer and the first hidden layer will be (4+1)\\*5 = 25. After augmenting the input with the bias (in this case the bias has a constant value of 1), the input layer has 5 nodes. By fully connecting this layer to the next (each node in the input layer is connected will every node of the hidden layer), we get that the total number of connections is 25. Similarly, we get that the connections between the first hidden layer and the second one will be (5+1)\\*10 = 60 and between the second hidden layer with the output we have (10+1)\\*3 = 33 connections.\n",
    "\n",
    "In the implementation, `numpy` is used to generate a random number in the `[-1, 1]` range for each connection."
   ]
  },
  {
   "cell_type": "code",
   "execution_count": 13,
   "metadata": {},
   "outputs": [],
   "source": [
    "def InitializeWeights(nodes):\n",
    "    \"\"\"Initialize weights with random values in [-1, 1] (including bias)\"\"\"\n",
    "    layers, weights = len(nodes), []\n",
    "    \n",
    "    for i in range(1, layers):\n",
    "        w = [[np.random.uniform(-1, 1) for k in range(nodes[i-1] + 1)]\n",
    "              for j in range(nodes[i])]\n",
    "        weights.append(np.matrix(w))\n",
    "    \n",
    "    return weights"
   ]
  },
  {
   "cell_type": "markdown",
   "metadata": {},
   "source": [
    "With the weights of the network at hand, we want to continuously adjust them across the epochs so that (hopefully) our network becomes more accurate. The training of the weights is accomplished via the popular (Forward) Back-Propagation algorithm. In this technique, the input first passes through the whole network and the output is calculated. Then, according to the error of this output, the weights of the network are updated from last to first. The error is propagated *backwards*, hence the name of the titular algorithm. Let's get into more detail about these two steps:\n",
    "\n",
    "**Forward Propagation:**\n",
    "\n",
    "* Each layer receives an input and computes an output. The output is computed by first calculating the dot product between the input and the weights of the layer and then passing this dot product through an activation function (in this case, the sigmoid function).\n",
    "* The output of each layer is the input of the next.\n",
    "* The input of the first layer is the feature vector.\n",
    "* The output of the final layer is the prediction of the network."
   ]
  },
  {
   "cell_type": "code",
   "execution_count": 14,
   "metadata": {},
   "outputs": [],
   "source": [
    "def ForwardPropagation(x, weights, layers):\n",
    "    activations, layer_input = [x], x\n",
    "    for j in range(layers):\n",
    "        activation = Sigmoid(np.dot(layer_input, weights[j].T))\n",
    "        activations.append(activation)\n",
    "        layer_input = np.append(1, activation) # Augment with bias\n",
    "    \n",
    "    return activations"
   ]
  },
  {
   "cell_type": "markdown",
   "metadata": {},
   "source": [
    "**Backward Propagation:**\n",
    "\n",
    "* Calculate error at final output.\n",
    "* Propagate error backwards through the layers and perform corrections.\n",
    "    * Calculate Delta: Back-propagated error of current layer *times* Sigmoid derivation of current layer activation.\n",
    "    * Update Weights between current layer and previous layer: Multiply delta with activation of previous layer and learning rate, and add this product to weights of previous layer.\n",
    "    * Calculate error for current layer. Remove the bias from the weights of the previous layer and multiply the result with delta to get error.\n",
    "\n",
    "It is easier if we think of updates as operating on the weights between two layers: $a$ | $W$ | $b$. When updating $W$, we are given the back-propagated error of $b$. Then, we calculate the delta, which is the error times the sigmoid derivative of $b$'s activation. Then, we multiply the delta with the activation of $a$ and the learning rate and add it to $W$. Finally, we calculate the new error and propagate it backwards again.\n",
    "\n",
    "This is an iterative process that goes from output to input. The first error in the process is the final output error."
   ]
  },
  {
   "cell_type": "code",
   "execution_count": 15,
   "metadata": {},
   "outputs": [],
   "source": [
    "def BackPropagation(y, activations, weights, layers):\n",
    "    outputFinal = activations[-1]\n",
    "    error = np.matrix(y - outputFinal) # Error at output\n",
    "    \n",
    "    for j in range(layers, 0, -1):\n",
    "        currActivation = activations[j]\n",
    "        \n",
    "        if(j > 1):\n",
    "            # Augment previous activation\n",
    "            prevActivation = np.append(1, activations[j-1])\n",
    "        else:\n",
    "            # First hidden layer, prevActivation is input (without bias)\n",
    "            prevActivation = activations[0]\n",
    "        \n",
    "        delta = np.multiply(error, SigmoidDerivative(currActivation))\n",
    "        weights[j-1] += lr * np.multiply(delta.T, prevActivation)\n",
    "\n",
    "        w = np.delete(weights[j-1], [0], axis=1) # Remove bias from weights\n",
    "        error = np.dot(delta, w) # Calculate error for current layer\n",
    "    \n",
    "    return weights"
   ]
  },
  {
   "cell_type": "markdown",
   "metadata": {},
   "source": [
    "In our implementation we will pass each sample of our dataset through the network, performing first the forward pass and then the weight updating via the back-propagation algorithm. Finally, the newly calculated weights will be returned."
   ]
  },
  {
   "cell_type": "code",
   "execution_count": 16,
   "metadata": {},
   "outputs": [],
   "source": [
    "def Train(X, Y, lr, weights):\n",
    "    layers = len(weights)\n",
    "    for i in range(len(X)):\n",
    "        x, y = X[i], Y[i]\n",
    "        x = np.matrix(np.append(1, x)) # Augment feature vector\n",
    "        \n",
    "        activations = ForwardPropagation(x, weights, layers)\n",
    "        weights = BackPropagation(y, activations, weights, layers)\n",
    "\n",
    "    return weights"
   ]
  },
  {
   "cell_type": "markdown",
   "metadata": {},
   "source": [
    "Neural networks need an activation function to pass the dot product of each layer through to get the final output (as well as to get to get the delta in back-propagation). In this tutorial, we will use the sigmoid function and its derivative. Other activation functions are available, like the famous *ReLU*. Also, sometimes layers don't use the same activation function, and there are times where the output doesn't have an activation function at all (for example, in the case of regression)."
   ]
  },
  {
   "cell_type": "code",
   "execution_count": 17,
   "metadata": {},
   "outputs": [],
   "source": [
    "def Sigmoid(x):\n",
    "    return 1 / (1 + np.exp(-x))\n",
    "\n",
    "def SigmoidDerivative(x):\n",
    "    return np.multiply(x, 1-x)"
   ]
  },
  {
   "cell_type": "markdown",
   "metadata": {},
   "source": [
    "When we want to make a prediction for an item, we need to first pass it through the network. The output of the network (in the case of three different classes, as in the Iris problem) will be in the form `[x, y, z]` where `x, y, z` are real numbers in the range [0, 1]. The higher the value of an element, the more confident the network is that it is the correct class. We need to convert this output to the proper one-hot format we mentioned earlier. Thus, we will take the largest of the outputs and set the corresponding index to 1, while the rest are set to 0. This means the predicted class is the one the network is most confident in (ie. the greatest value).\n",
    "\n",
    "So, a prediction involves the forward propagation and the conversion of the output to one-hot encoding, with the 1 denoting the predicted class."
   ]
  },
  {
   "cell_type": "code",
   "execution_count": 18,
   "metadata": {},
   "outputs": [],
   "source": [
    "def Predict(item, weights):\n",
    "    layers = len(weights)\n",
    "    item = np.append(1, item) # Augment feature vector\n",
    "    \n",
    "    ##_Forward Propagation_##\n",
    "    activations = ForwardPropagation(item, weights, layers)\n",
    "    \n",
    "    outputFinal = activations[-1].A1\n",
    "    index = FindMaxActivation(outputFinal)\n",
    "\n",
    "    # Initialize prediction vector to zeros\n",
    "    y = [0 for i in range(len(outputFinal))]\n",
    "    y[index] = 1  # Set guessed class to 1\n",
    "\n",
    "    return y # Return prediction vector\n",
    "\n",
    "\n",
    "def FindMaxActivation(output):\n",
    "    \"\"\"Find max activation in output\"\"\"\n",
    "    m, index = output[0], 0\n",
    "    for i in range(1, len(output)):\n",
    "        if(output[i] > m):\n",
    "            m, index = output[i], i\n",
    "    \n",
    "    return index"
   ]
  },
  {
   "cell_type": "markdown",
   "metadata": {},
   "source": [
    "Finally, we need a way to evaluate our network. For this, we will write the `Accuracy` function which, given the computed weights, predicts the class of each object in its input and checks it against the actual class, returning the percentage of correct predictions.\n",
    "\n",
    "Instead of the percentile accuracy, other accuracy metrics can be employed, but for this tutorial this simple method will do."
   ]
  },
  {
   "cell_type": "code",
   "execution_count": 19,
   "metadata": {},
   "outputs": [],
   "source": [
    "def Accuracy(X, Y, weights):\n",
    "    \"\"\"Run set through network, find overall accuracy\"\"\"\n",
    "    correct = 0\n",
    "\n",
    "    for i in range(len(X)):\n",
    "        x, y = X[i], list(Y[i])\n",
    "        guess = Predict(x, weights)\n",
    "\n",
    "        if(y == guess):\n",
    "            # Guessed correctly\n",
    "            correct += 1\n",
    "\n",
    "    return correct / len(X)"
   ]
  },
  {
   "cell_type": "markdown",
   "metadata": {},
   "source": [
    "We have now completed our implementation and we can check the results! Below we build a network by passing to the main function (`NeuralNetwork`) the training/validation sets, the number of epochs, the learning rate and the number of nodes in each layer.\n",
    "\n",
    "During the training, after each 20th epoch, the accuracy of the network on the training and validation sets will be printed."
   ]
  },
  {
   "cell_type": "code",
   "execution_count": 20,
   "metadata": {},
   "outputs": [
    {
     "name": "stdout",
     "output_type": "stream",
     "text": [
      "Epoch 20\n",
      "Training Accuracy:0.8859649122807017\n",
      "Validation Accuracy:0.7692307692307693\n",
      "Epoch 40\n",
      "Training Accuracy:0.8859649122807017\n",
      "Validation Accuracy:0.9230769230769231\n",
      "Epoch 60\n",
      "Training Accuracy:0.7982456140350878\n",
      "Validation Accuracy:0.9230769230769231\n",
      "Epoch 80\n",
      "Training Accuracy:0.7719298245614035\n",
      "Validation Accuracy:0.9230769230769231\n",
      "Epoch 100\n",
      "Training Accuracy:0.9736842105263158\n",
      "Validation Accuracy:1.0\n"
     ]
    }
   ],
   "source": [
    "f = len(X[0]) # Number of features\n",
    "o = len(Y[0]) # Number of outputs / classes\n",
    "\n",
    "layers = [f, 5, 10, o] # Number of nodes in layers\n",
    "lr, epochs = 0.15, 100\n",
    "\n",
    "weights = NeuralNetwork(X_train, Y_train, X_val, Y_val, epochs=epochs, nodes=layers, lr=lr);"
   ]
  },
  {
   "cell_type": "markdown",
   "metadata": {},
   "source": [
    "For the grand finale, we will test the network against the testing dataset:"
   ]
  },
  {
   "cell_type": "code",
   "execution_count": 21,
   "metadata": {},
   "outputs": [
    {
     "name": "stdout",
     "output_type": "stream",
     "text": [
      "Testing Accuracy: 1.0\n"
     ]
    }
   ],
   "source": [
    "print(\"Testing Accuracy: {}\".format(Accuracy(X_test, Y_test, weights)))"
   ]
  },
  {
   "cell_type": "markdown",
   "metadata": {},
   "source": [
    "And that is all. We built a neural network from scratch and trained it to predict Iris species. I hope this journey was as helpful and educational to you as it was for me when I was starting out.\n",
    "\n",
    "Thanks for reading!"
   ]
  },
  {
   "cell_type": "code",
   "execution_count": null,
   "metadata": {},
   "outputs": [],
   "source": []
  }
 ],
 "metadata": {
  "kernelspec": {
   "display_name": "Python 3",
   "language": "python",
   "name": "python3"
  },
  "language_info": {
   "codemirror_mode": {
    "name": "ipython",
    "version": 3
   },
   "file_extension": ".py",
   "mimetype": "text/x-python",
   "name": "python",
   "nbconvert_exporter": "python",
   "pygments_lexer": "ipython3",
   "version": "3.7.3"
  }
 },
 "nbformat": 4,
 "nbformat_minor": 2
}
